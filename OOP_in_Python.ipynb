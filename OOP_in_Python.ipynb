{
 "cells": [
  {
   "cell_type": "markdown",
   "metadata": {},
   "source": [
    "# Object Oriented Programming in Python"
   ]
  },
  {
   "cell_type": "markdown",
   "metadata": {},
   "source": [
    "## 1 Introduction"
   ]
  },
  {
   "cell_type": "markdown",
   "metadata": {},
   "source": [
    "Object-oriented programming (OOP) is a programming paradigm based on the concept of \"objects\", which can contain data in the form of attributes, and code in the form of methods. Another definition of OOP is a way to build flexible and reusable code to develop more advanced modules and libraries such as Numpy and Pandas.\n",
    "\n",
    "Everything in Python is an object. For instance, string and list are python objects. A class is like a \"blueprint\" for creating object. It is easy to maintain codes written using OOP techniques due to the modular structure. Programs are more secure with encapsulation approach used in OOP."
   ]
  },
  {
   "cell_type": "markdown",
   "metadata": {},
   "source": [
    "## 2 Class"
   ]
  },
  {
   "cell_type": "markdown",
   "metadata": {},
   "source": [
    "The present data structures in Python like integers and strings are designed to represent somethings like the number of employee and the name of a employee. A class in OOP is like a blueprint for objects. We can develop our own data structure by using OOP. For example, we could create an Employee class to track properties about Employee such as name and wage.\n",
    "\n",
    "The **class** keyword is used to create a class in Python. Class name follows the **class** keyword followed by the colon. The body of the class starts on a new line and indented one tab from the **class** keyword.\n",
    "\n",
    "\n",
    "Constructor is a method that is called by default whenever you create an object from a class. We have to create a method with keyword __\\__init__\\__ in order to create a constructor. In the below example, we create a class named Employee with two class attribute **status** and **number_of_employee**, and two instance attribute **employee_id** and **name**. The **Employee** class also containts **give_info()** method."
   ]
  },
  {
   "cell_type": "code",
   "execution_count": 1,
   "metadata": {},
   "outputs": [],
   "source": [
    "class Employee:\n",
    "\n",
    "    #class attributes\n",
    "    status = \"active\"\n",
    "    number_of_employee = 0\n",
    "\n",
    "    def __init__(self, employee_id, name):\n",
    "        self.employee_id = employee_id #instance attribute\n",
    "        self.name = name #instance attribute\n",
    "        Employee.number_of_employee += 1\n",
    "\n",
    "    #class method\n",
    "    def give_info(self):\n",
    "        print(\"Name:\",self.name,\"\\nID:\",self.employee_id)"
   ]
  },
  {
   "cell_type": "markdown",
   "metadata": {},
   "source": [
    "The first emmployee_id in the **\"self.employee_id = employee_id\"** expression is instance attribute or varible and the second employee_id is a parameter. The same thing is also true for **name** variable. When we creating object using a class like **emre = Employee(\"101\", \"Emre Kutluğ\")**, \"101\" and \"Emre Kutluğ\" are arguments."
   ]
  },
  {
   "cell_type": "markdown",
   "metadata": {},
   "source": [
    "## 2 Object"
   ]
  },
  {
   "cell_type": "markdown",
   "metadata": {},
   "source": [
    "As we said earlier, A class is like a \"blueprint\" for creating object. The relationship between a class and object can be understood by looking at the relationship between an animal and Yogi Bear. Yogi Bear is an animal. An Animal is an abstract concept, it is actually implemented in the form of Yogi Bear or Mickey Mouse. Hence, we need to create an object of a class before we can use its methods and attributes.\n",
    "\n",
    "An object is also called an instance. Therefore, the process of creating an object of a class is called instantiation. In Python, in order to create an object of a class we need to write the class name followed by opening and closing parenthesis. In the below example, we create an object of **Employee** class"
   ]
  },
  {
   "cell_type": "code",
   "execution_count": 2,
   "metadata": {},
   "outputs": [],
   "source": [
    "emre = Employee(\"101\", \"Emre Kutluğ\")"
   ]
  },
  {
   "cell_type": "markdown",
   "metadata": {},
   "source": [
    "We can use **type** method to check the type of the object. As you will see in the below example the type of emre object is a class Employee."
   ]
  },
  {
   "cell_type": "code",
   "execution_count": 3,
   "metadata": {},
   "outputs": [
    {
     "data": {
      "text/plain": [
       "__main__.Employee"
      ]
     },
     "execution_count": 3,
     "metadata": {},
     "output_type": "execute_result"
    }
   ],
   "source": [
    "type(emre)"
   ]
  },
  {
   "cell_type": "markdown",
   "metadata": {},
   "source": [
    "We can access class and instance attributes and call class method using the class object. To do so, you have to write the object name, followed by dot operator and the name of the attribute or the method that you want to access or call. look at the following examples below."
   ]
  },
  {
   "cell_type": "code",
   "execution_count": 4,
   "metadata": {},
   "outputs": [
    {
     "data": {
      "text/plain": [
       "'active'"
      ]
     },
     "execution_count": 4,
     "metadata": {},
     "output_type": "execute_result"
    }
   ],
   "source": [
    "emre.status"
   ]
  },
  {
   "cell_type": "code",
   "execution_count": 5,
   "metadata": {},
   "outputs": [
    {
     "data": {
      "text/plain": [
       "1"
      ]
     },
     "execution_count": 5,
     "metadata": {},
     "output_type": "execute_result"
    }
   ],
   "source": [
    "emre.number_of_employee"
   ]
  },
  {
   "cell_type": "code",
   "execution_count": 6,
   "metadata": {},
   "outputs": [
    {
     "data": {
      "text/plain": [
       "'101'"
      ]
     },
     "execution_count": 6,
     "metadata": {},
     "output_type": "execute_result"
    }
   ],
   "source": [
    "emre.employee_id"
   ]
  },
  {
   "cell_type": "code",
   "execution_count": 7,
   "metadata": {},
   "outputs": [
    {
     "name": "stdout",
     "output_type": "stream",
     "text": [
      "Name: Emre Kutluğ \n",
      "ID: 101\n"
     ]
    }
   ],
   "source": [
    "emre.give_info()"
   ]
  },
  {
   "cell_type": "markdown",
   "metadata": {},
   "source": [
    "## Attributes"
   ]
  },
  {
   "cell_type": "markdown",
   "metadata": {},
   "source": [
    "The built-in **dir()** function can be used to see all the attributes and methods of an object. There are some buit-in attributes and methods in Python. The below example shows all the attributes and method of **emre** object. The ones with double underscores in front are built-in attributes and methods."
   ]
  },
  {
   "cell_type": "code",
   "execution_count": 8,
   "metadata": {},
   "outputs": [
    {
     "data": {
      "text/plain": [
       "['__class__',\n",
       " '__delattr__',\n",
       " '__dict__',\n",
       " '__dir__',\n",
       " '__doc__',\n",
       " '__eq__',\n",
       " '__format__',\n",
       " '__ge__',\n",
       " '__getattribute__',\n",
       " '__gt__',\n",
       " '__hash__',\n",
       " '__init__',\n",
       " '__init_subclass__',\n",
       " '__le__',\n",
       " '__lt__',\n",
       " '__module__',\n",
       " '__ne__',\n",
       " '__new__',\n",
       " '__reduce__',\n",
       " '__reduce_ex__',\n",
       " '__repr__',\n",
       " '__setattr__',\n",
       " '__sizeof__',\n",
       " '__str__',\n",
       " '__subclasshook__',\n",
       " '__weakref__',\n",
       " 'employee_id',\n",
       " 'give_info',\n",
       " 'name',\n",
       " 'number_of_employee',\n",
       " 'status']"
      ]
     },
     "execution_count": 8,
     "metadata": {},
     "output_type": "execute_result"
    }
   ],
   "source": [
    "dir(emre)"
   ]
  },
  {
   "cell_type": "markdown",
   "metadata": {},
   "source": [
    "There are two types of attributes which are class and instance attributes. The value of class attributes is the same across all objects but the value of instance attributes can change across objects. Instance attributes are declared inside any method while class attributes are declared outside of any method. The instance attributes are referred using the self keyword, while class attributes are referred by the class name inside the method. In the above **Employee** class, **status** and **number_of_employee** are class attributes, **name** and **employee_id** are instance attributes. In the example below first we look at the value of **number_of_employee** attribute and then we create another object from **Employee** class."
   ]
  },
  {
   "cell_type": "code",
   "execution_count": 9,
   "metadata": {},
   "outputs": [
    {
     "data": {
      "text/plain": [
       "1"
      ]
     },
     "execution_count": 9,
     "metadata": {},
     "output_type": "execute_result"
    }
   ],
   "source": [
    "emre.number_of_employee"
   ]
  },
  {
   "cell_type": "code",
   "execution_count": 10,
   "metadata": {},
   "outputs": [],
   "source": [
    "emma = Employee(\"102\", \"Emma Stone\")"
   ]
  },
  {
   "cell_type": "code",
   "execution_count": 11,
   "metadata": {},
   "outputs": [
    {
     "name": "stdout",
     "output_type": "stream",
     "text": [
      "Name: Emma Stone \n",
      "ID: 102\n"
     ]
    }
   ],
   "source": [
    "emma.give_info()"
   ]
  },
  {
   "cell_type": "markdown",
   "metadata": {},
   "source": [
    "When we look at the value of **number_of_employee** in below, we will see 2 in the output since number_of_employee attribute is a class attribute and thus it is shared between the objects."
   ]
  },
  {
   "cell_type": "code",
   "execution_count": 12,
   "metadata": {},
   "outputs": [
    {
     "data": {
      "text/plain": [
       "2"
      ]
     },
     "execution_count": 12,
     "metadata": {},
     "output_type": "execute_result"
    }
   ],
   "source": [
    "emma.number_of_employee"
   ]
  },
  {
   "cell_type": "markdown",
   "metadata": {},
   "source": [
    "## Methods"
   ]
  },
  {
   "cell_type": "markdown",
   "metadata": {},
   "source": [
    "As mentioned earlier, we can implement the functionalities of an object using methods. We used the objects of a class to call the methods so far but there is another type of method which is static method that can be called directly using the class name. Static methods can only access class attributes. In the below example, we add a static method to our **Employee** class."
   ]
  },
  {
   "cell_type": "code",
   "execution_count": 13,
   "metadata": {},
   "outputs": [],
   "source": [
    "class Employee:\n",
    "    \n",
    "    #class attributes\n",
    "    status = \"active\"\n",
    "    number_of_employee = 0\n",
    "    \n",
    "    def __init__(self, employee_id, name):\n",
    "        self.employee_id = employee_id #instance attribute\n",
    "        self.name = name #instance attribute\n",
    "        Employee.number_of_employee += 1\n",
    "     \n",
    "    #class method\n",
    "    def give_info(self):\n",
    "        print(\"Name:\",self.name,\"\\nID:\",self.employee_id)\n",
    "        \n",
    "    @staticmethod\n",
    "    def get_class_objective():\n",
    "        message = \"The objective of this Employee class is to organize employee informations with more modular manner\"\n",
    "        print (message)"
   ]
  },
  {
   "cell_type": "code",
   "execution_count": 14,
   "metadata": {},
   "outputs": [
    {
     "name": "stdout",
     "output_type": "stream",
     "text": [
      "The objective of this Employee class is to organize employee informations with more modular manner\n"
     ]
    }
   ],
   "source": [
    "Employee.get_class_objective()"
   ]
  },
  {
   "cell_type": "markdown",
   "metadata": {},
   "source": [
    "## Global versus Local variables"
   ]
  },
  {
   "cell_type": "markdown",
   "metadata": {},
   "source": [
    "The attributes of a class are also referred to as variables. There are two type of variables as local and global. Local variables in a class is a variable that can only be accessed inside the method where it is defined. Therefore, we cannot access **message** variable outside the **get_class_objective()** method. When we tried to access it gives **Attribute Error** as seen in the below example."
   ]
  },
  {
   "cell_type": "code",
   "execution_count": 15,
   "metadata": {},
   "outputs": [
    {
     "ename": "AttributeError",
     "evalue": "'Employee' object has no attribute 'message'",
     "output_type": "error",
     "traceback": [
      "\u001b[0;31m---------------------------------------------------------------------------\u001b[0m",
      "\u001b[0;31mAttributeError\u001b[0m                            Traceback (most recent call last)",
      "\u001b[0;32m<ipython-input-15-35255f09e347>\u001b[0m in \u001b[0;36m<module>\u001b[0;34m\u001b[0m\n\u001b[0;32m----> 1\u001b[0;31m \u001b[0memre\u001b[0m\u001b[0;34m.\u001b[0m\u001b[0mmessage\u001b[0m\u001b[0;34m\u001b[0m\u001b[0;34m\u001b[0m\u001b[0m\n\u001b[0m",
      "\u001b[0;31mAttributeError\u001b[0m: 'Employee' object has no attribute 'message'"
     ]
    }
   ],
   "source": [
    "emre.message"
   ]
  },
  {
   "cell_type": "markdown",
   "metadata": {},
   "source": [
    "Global variables are defined outside of any method and thus it can be accessed anywhere in the class. **Status** and **number_of_employee** are global variables in the above example so we can access them as in the below example."
   ]
  },
  {
   "cell_type": "code",
   "execution_count": 16,
   "metadata": {},
   "outputs": [
    {
     "data": {
      "text/plain": [
       "'active'"
      ]
     },
     "execution_count": 16,
     "metadata": {},
     "output_type": "execute_result"
    }
   ],
   "source": [
    "emre.status"
   ]
  },
  {
   "cell_type": "markdown",
   "metadata": {},
   "source": [
    "## Encapsulation"
   ]
  },
  {
   "cell_type": "markdown",
   "metadata": {},
   "source": [
    "There are three main concepts in objects oriented programming which are Encapsulation, Inheritance and Polymorphism. Encapsulation refers to data hiding. In OOP, one class should not have direct access to the data of the other class or the access should be controlled via class methods. We can use private variables and properties in order to control access to class data. **__age** is private variable since there are two underscores in front of it. A property has three parts. You have to define the attribute, which is **age** in the below example. Next, you have to define the property for the attribute using the **@property decorator**. Finally, you have to create property setter which is **@age.setter** descriptor in the below example. We can say that age of employees should always between 18 and 99. If a user tries to enter a value for age less than 18 or more than 99, there will be an error and thus an object from **Employee** class cannot be created. However, if the value is between 18 and 99, an object can be created. We can create a property for the age attribute which implements this logic as in the below example."
   ]
  },
  {
   "cell_type": "code",
   "execution_count": 17,
   "metadata": {},
   "outputs": [],
   "source": [
    "class Employee:\n",
    "    \n",
    "    #class attributes\n",
    "    status = \"active\"\n",
    "    number_of_employee = 0\n",
    "    \n",
    "    def __init__(self, employee_id, name, age):\n",
    "        self.employee_id = employee_id #instance attribute\n",
    "        self.name = name #instance attribute\n",
    "        self.age = age #instance attribute\n",
    "        Employee.number_of_employee += 1\n",
    "\n",
    "        \n",
    "    # Creates model property\n",
    "    @property\n",
    "    def age(self):\n",
    "        return self.__age\n",
    "    \n",
    "    # Create property setter\n",
    "    @age.setter\n",
    "    def age(self, age):\n",
    "        if age < 18:\n",
    "            raise Exception('An Employee\\'s age cannot be lower than 18')\n",
    "        elif age > 99:\n",
    "            raise Exception('An Employee\\'s age cannot be upper than 99')\n",
    "        else:\n",
    "            self.__age = age\n",
    "\n",
    "     \n",
    "    #class method\n",
    "    def give_info(self):\n",
    "        print(\"Name:\",self.name,\"\\nID:\",self.employee_id)\n",
    "        \n",
    "    @staticmethod\n",
    "    def get_class_objective():\n",
    "        message = \"The objective of this Employee class is to organize employee informations with more modular manner\"\n",
    "        print (message)"
   ]
  },
  {
   "cell_type": "code",
   "execution_count": 18,
   "metadata": {},
   "outputs": [
    {
     "ename": "Exception",
     "evalue": "An Employee's age cannot be lower than 18",
     "output_type": "error",
     "traceback": [
      "\u001b[0;31m---------------------------------------------------------------------------\u001b[0m",
      "\u001b[0;31mException\u001b[0m                                 Traceback (most recent call last)",
      "\u001b[0;32m<ipython-input-18-1bdb73cbdda9>\u001b[0m in \u001b[0;36m<module>\u001b[0;34m\u001b[0m\n\u001b[0;32m----> 1\u001b[0;31m \u001b[0mchild\u001b[0m \u001b[0;34m=\u001b[0m \u001b[0mEmployee\u001b[0m\u001b[0;34m(\u001b[0m\u001b[0;34m\"103\"\u001b[0m\u001b[0;34m,\u001b[0m \u001b[0;34m\"Eric Cartman\"\u001b[0m\u001b[0;34m,\u001b[0m \u001b[0;36m12\u001b[0m\u001b[0;34m)\u001b[0m\u001b[0;34m\u001b[0m\u001b[0;34m\u001b[0m\u001b[0m\n\u001b[0m",
      "\u001b[0;32m<ipython-input-17-686e6830c0b5>\u001b[0m in \u001b[0;36m__init__\u001b[0;34m(self, employee_id, name, age)\u001b[0m\n\u001b[1;32m      8\u001b[0m         \u001b[0mself\u001b[0m\u001b[0;34m.\u001b[0m\u001b[0memployee_id\u001b[0m \u001b[0;34m=\u001b[0m \u001b[0memployee_id\u001b[0m \u001b[0;31m#instance attribute\u001b[0m\u001b[0;34m\u001b[0m\u001b[0;34m\u001b[0m\u001b[0m\n\u001b[1;32m      9\u001b[0m         \u001b[0mself\u001b[0m\u001b[0;34m.\u001b[0m\u001b[0mname\u001b[0m \u001b[0;34m=\u001b[0m \u001b[0mname\u001b[0m \u001b[0;31m#instance attribute\u001b[0m\u001b[0;34m\u001b[0m\u001b[0;34m\u001b[0m\u001b[0m\n\u001b[0;32m---> 10\u001b[0;31m         \u001b[0mself\u001b[0m\u001b[0;34m.\u001b[0m\u001b[0mage\u001b[0m \u001b[0;34m=\u001b[0m \u001b[0mage\u001b[0m \u001b[0;31m#instance attribute\u001b[0m\u001b[0;34m\u001b[0m\u001b[0;34m\u001b[0m\u001b[0m\n\u001b[0m\u001b[1;32m     11\u001b[0m         \u001b[0mEmployee\u001b[0m\u001b[0;34m.\u001b[0m\u001b[0mnumber_of_employee\u001b[0m \u001b[0;34m+=\u001b[0m \u001b[0;36m1\u001b[0m\u001b[0;34m\u001b[0m\u001b[0;34m\u001b[0m\u001b[0m\n\u001b[1;32m     12\u001b[0m \u001b[0;34m\u001b[0m\u001b[0m\n",
      "\u001b[0;32m<ipython-input-17-686e6830c0b5>\u001b[0m in \u001b[0;36mage\u001b[0;34m(self, age)\u001b[0m\n\u001b[1;32m     21\u001b[0m     \u001b[0;32mdef\u001b[0m \u001b[0mage\u001b[0m\u001b[0;34m(\u001b[0m\u001b[0mself\u001b[0m\u001b[0;34m,\u001b[0m \u001b[0mage\u001b[0m\u001b[0;34m)\u001b[0m\u001b[0;34m:\u001b[0m\u001b[0;34m\u001b[0m\u001b[0;34m\u001b[0m\u001b[0m\n\u001b[1;32m     22\u001b[0m         \u001b[0;32mif\u001b[0m \u001b[0mage\u001b[0m \u001b[0;34m<\u001b[0m \u001b[0;36m18\u001b[0m\u001b[0;34m:\u001b[0m\u001b[0;34m\u001b[0m\u001b[0;34m\u001b[0m\u001b[0m\n\u001b[0;32m---> 23\u001b[0;31m             \u001b[0;32mraise\u001b[0m \u001b[0mException\u001b[0m\u001b[0;34m(\u001b[0m\u001b[0;34m'An Employee\\'s age cannot be lower than 18'\u001b[0m\u001b[0;34m)\u001b[0m\u001b[0;34m\u001b[0m\u001b[0;34m\u001b[0m\u001b[0m\n\u001b[0m\u001b[1;32m     24\u001b[0m         \u001b[0;32melif\u001b[0m \u001b[0mage\u001b[0m \u001b[0;34m>\u001b[0m \u001b[0;36m99\u001b[0m\u001b[0;34m:\u001b[0m\u001b[0;34m\u001b[0m\u001b[0;34m\u001b[0m\u001b[0m\n\u001b[1;32m     25\u001b[0m             \u001b[0;32mraise\u001b[0m \u001b[0mException\u001b[0m\u001b[0;34m(\u001b[0m\u001b[0;34m'An Employee\\'s age cannot be upper than 99'\u001b[0m\u001b[0;34m)\u001b[0m\u001b[0;34m\u001b[0m\u001b[0;34m\u001b[0m\u001b[0m\n",
      "\u001b[0;31mException\u001b[0m: An Employee's age cannot be lower than 18"
     ]
    }
   ],
   "source": [
    "child = Employee(\"103\", \"Eric Cartman\", 12)"
   ]
  },
  {
   "cell_type": "markdown",
   "metadata": {},
   "source": [
    "## Inheritance"
   ]
  },
  {
   "cell_type": "markdown",
   "metadata": {},
   "source": [
    "Inheritance in OOP is similar to real-world inheritance where a child inherits some of the characteristics from his parents, in addition to his own unique characteristics.  The class which inherits another class is called a child class and the class which is inherited by another class is called a parent class. There is an example about inheritance in below."
   ]
  },
  {
   "cell_type": "code",
   "execution_count": 19,
   "metadata": {},
   "outputs": [],
   "source": [
    "# Create Class Manager that inherits Employee\n",
    "class Manager(Employee):\n",
    "      \n",
    "    def set_team_size(self, team_size):\n",
    "        self.team_size = team_size"
   ]
  },
  {
   "cell_type": "markdown",
   "metadata": {},
   "source": [
    "In the above example, we create **Manager** class which inherits the **Employee** class. To inherit a class, you have to write the parent class name inside the parenthesis that follows the child class name. **Manager** class can access all of attributes and methods of parent **Employee** class like in the below example."
   ]
  },
  {
   "cell_type": "code",
   "execution_count": 20,
   "metadata": {},
   "outputs": [],
   "source": [
    "muge = Manager(\"103\", \"Müge Özkan\", 30)"
   ]
  },
  {
   "cell_type": "code",
   "execution_count": 21,
   "metadata": {},
   "outputs": [
    {
     "data": {
      "text/plain": [
       "'Müge Özkan'"
      ]
     },
     "execution_count": 21,
     "metadata": {},
     "output_type": "execute_result"
    }
   ],
   "source": [
    "muge.name"
   ]
  },
  {
   "cell_type": "code",
   "execution_count": 22,
   "metadata": {},
   "outputs": [
    {
     "data": {
      "text/plain": [
       "'active'"
      ]
     },
     "execution_count": 22,
     "metadata": {},
     "output_type": "execute_result"
    }
   ],
   "source": [
    "muge.status"
   ]
  },
  {
   "cell_type": "code",
   "execution_count": 23,
   "metadata": {},
   "outputs": [
    {
     "name": "stdout",
     "output_type": "stream",
     "text": [
      "The objective of this Employee class is to organize employee informations with more modular manner\n"
     ]
    }
   ],
   "source": [
    "muge.get_class_objective()"
   ]
  },
  {
   "cell_type": "markdown",
   "metadata": {},
   "source": [
    "**Manager** class has also it own method **set_team_size()** in addition to **Employee** class's methods and attributes. We can set team size of object of **Manager** class as in the below example. As a side note, one class can has more then two parent or child class."
   ]
  },
  {
   "cell_type": "code",
   "execution_count": 24,
   "metadata": {},
   "outputs": [],
   "source": [
    "muge.set_team_size(10)"
   ]
  },
  {
   "cell_type": "code",
   "execution_count": 25,
   "metadata": {},
   "outputs": [
    {
     "data": {
      "text/plain": [
       "10"
      ]
     },
     "execution_count": 25,
     "metadata": {},
     "output_type": "execute_result"
    }
   ],
   "source": [
    "muge.team_size"
   ]
  },
  {
   "cell_type": "markdown",
   "metadata": {},
   "source": [
    "## Polymorphism"
   ]
  },
  {
   "cell_type": "markdown",
   "metadata": {},
   "source": [
    "Polymorphism refers to the ability of an object act in different ways. There are two type of polymorphism which are method overriding and method overloading."
   ]
  },
  {
   "cell_type": "markdown",
   "metadata": {},
   "source": [
    "### Method Overriding"
   ]
  },
  {
   "cell_type": "markdown",
   "metadata": {},
   "source": [
    "Method overriding means having a method with the same name in the child class as in the parent class. The definition of such methods are different in parent and child classes but the name remains the same. If you remember, we had **give_info()** method in the **Employee** class. We can override this method in the child **Manager** class in order to give team size information about manager objects."
   ]
  },
  {
   "cell_type": "code",
   "execution_count": 26,
   "metadata": {},
   "outputs": [],
   "source": [
    "class Manager(Employee):\n",
    "    \n",
    "    team_size = None\n",
    "      \n",
    "    def set_team_size(self, team_size):\n",
    "        self.team_size = team_size\n",
    "        \n",
    "    def give_info(self):\n",
    "        print(\"Name:\",self.name,\"\\nID:\",self.employee_id,\"\\nTeam Size:\",self.team_size)"
   ]
  },
  {
   "cell_type": "code",
   "execution_count": 27,
   "metadata": {},
   "outputs": [],
   "source": [
    "muge = Manager(\"103\", \"Müge Özkan\", 30)"
   ]
  },
  {
   "cell_type": "code",
   "execution_count": 28,
   "metadata": {},
   "outputs": [],
   "source": [
    "muge.set_team_size(10)"
   ]
  },
  {
   "cell_type": "code",
   "execution_count": 29,
   "metadata": {},
   "outputs": [
    {
     "name": "stdout",
     "output_type": "stream",
     "text": [
      "Name: Müge Özkan \n",
      "ID: 103 \n",
      "Team Size: 10\n"
     ]
    }
   ],
   "source": [
    "muge.give_info()"
   ]
  },
  {
   "cell_type": "code",
   "execution_count": 30,
   "metadata": {},
   "outputs": [
    {
     "name": "stdout",
     "output_type": "stream",
     "text": [
      "Name: Emre Kutluğ \n",
      "ID: 101\n"
     ]
    }
   ],
   "source": [
    "emre.give_info()"
   ]
  },
  {
   "cell_type": "markdown",
   "metadata": {},
   "source": [
    "As you see above, the give_info() method is being called through both parent and child classes but they behave differently because the child class have overriden the parent class method."
   ]
  },
  {
   "cell_type": "markdown",
   "metadata": {},
   "source": [
    "### Method Overloading"
   ]
  },
  {
   "cell_type": "markdown",
   "metadata": {},
   "source": [
    "You can overload any method by changing the number or types of the arguments when you are calling such methods and thus the methods behave differently. In the below example, if we call **calculate_salary()** method with one argument, it returns that argument, but if we call that method with two arguments, it returns summation of the two arguments."
   ]
  },
  {
   "cell_type": "code",
   "execution_count": 31,
   "metadata": {},
   "outputs": [],
   "source": [
    "class Manager(Employee):\n",
    "    \n",
    "    team_size = None\n",
    "      \n",
    "    def set_team_size(self, team_size):\n",
    "        self.team_size = team_size\n",
    "        \n",
    "    def give_info(self):\n",
    "        print(\"Name:\",self.name,\"\\nID:\",self.employee_id,\"\\nTeam Size:\",self.team_size)\n",
    "        \n",
    "    def calculate_salary(self, salary, bonus=None):\n",
    "        if bonus is not None:\n",
    "            salary += bonus\n",
    "        return salary"
   ]
  },
  {
   "cell_type": "code",
   "execution_count": 32,
   "metadata": {},
   "outputs": [],
   "source": [
    "muge = Manager(\"103\", \"Müge Özkan\", 30)"
   ]
  },
  {
   "cell_type": "code",
   "execution_count": 33,
   "metadata": {},
   "outputs": [
    {
     "data": {
      "text/plain": [
       "12345"
      ]
     },
     "execution_count": 33,
     "metadata": {},
     "output_type": "execute_result"
    }
   ],
   "source": [
    "muge.calculate_salary(12345)"
   ]
  },
  {
   "cell_type": "code",
   "execution_count": 34,
   "metadata": {},
   "outputs": [
    {
     "data": {
      "text/plain": [
       "13023"
      ]
     },
     "execution_count": 34,
     "metadata": {},
     "output_type": "execute_result"
    }
   ],
   "source": [
    "muge.calculate_salary(12345, 678)"
   ]
  },
  {
   "cell_type": "markdown",
   "metadata": {},
   "source": [
    "## Conclusion"
   ]
  },
  {
   "cell_type": "markdown",
   "metadata": {},
   "source": [
    "In this tutorial, we start with explaining object-oriented programming concepts suchs as classes, objects, attribute sand methods then we continue with Encapsulation, Inheritance and Polymorphism which are pillars of OOP. OOP is one of the most commonly used programming paradigms and thus most of the modern programming languages like Python support object-oriented programming."
   ]
  }
 ],
 "metadata": {
  "kernelspec": {
   "display_name": "Python 3",
   "language": "python",
   "name": "python3"
  },
  "language_info": {
   "codemirror_mode": {
    "name": "ipython",
    "version": 3
   },
   "file_extension": ".py",
   "mimetype": "text/x-python",
   "name": "python",
   "nbconvert_exporter": "python",
   "pygments_lexer": "ipython3",
   "version": "3.7.4"
  }
 },
 "nbformat": 4,
 "nbformat_minor": 2
}
